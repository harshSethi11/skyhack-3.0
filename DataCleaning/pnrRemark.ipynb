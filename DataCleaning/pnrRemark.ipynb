{
 "cells": [
  {
   "cell_type": "code",
   "execution_count": 78,
   "id": "754c3d5d",
   "metadata": {},
   "outputs": [
    {
     "name": "stdout",
     "output_type": "stream",
     "text": [
      "(51698, 4)\n"
     ]
    },
    {
     "data": {
      "text/html": [
       "<div>\n",
       "<style scoped>\n",
       "    .dataframe tbody tr th:only-of-type {\n",
       "        vertical-align: middle;\n",
       "    }\n",
       "\n",
       "    .dataframe tbody tr th {\n",
       "        vertical-align: top;\n",
       "    }\n",
       "\n",
       "    .dataframe thead th {\n",
       "        text-align: right;\n",
       "    }\n",
       "</style>\n",
       "<table border=\"1\" class=\"dataframe\">\n",
       "  <thead>\n",
       "    <tr style=\"text-align: right;\">\n",
       "      <th></th>\n",
       "      <th>record_locator</th>\n",
       "      <th>pnr_creation_date</th>\n",
       "      <th>flight_number</th>\n",
       "      <th>special_service_request</th>\n",
       "    </tr>\n",
       "  </thead>\n",
       "  <tbody>\n",
       "    <tr>\n",
       "      <th>0</th>\n",
       "      <td>PNR_153489</td>\n",
       "      <td>2025-07-04</td>\n",
       "      <td>308</td>\n",
       "      <td>Airport Wheelchair</td>\n",
       "    </tr>\n",
       "    <tr>\n",
       "      <th>1</th>\n",
       "      <td>PNR_153489</td>\n",
       "      <td>2025-07-04</td>\n",
       "      <td>2182</td>\n",
       "      <td>Airport Wheelchair</td>\n",
       "    </tr>\n",
       "    <tr>\n",
       "      <th>2</th>\n",
       "      <td>PNR_153508</td>\n",
       "      <td>2025-07-10</td>\n",
       "      <td>2649</td>\n",
       "      <td>Airport Wheelchair</td>\n",
       "    </tr>\n",
       "    <tr>\n",
       "      <th>3</th>\n",
       "      <td>PNR_153508</td>\n",
       "      <td>2025-07-10</td>\n",
       "      <td>2100</td>\n",
       "      <td>Airport Wheelchair</td>\n",
       "    </tr>\n",
       "    <tr>\n",
       "      <th>4</th>\n",
       "      <td>PNR_153521</td>\n",
       "      <td>2025-03-01</td>\n",
       "      <td>970</td>\n",
       "      <td>Unaccompanied Minor</td>\n",
       "    </tr>\n",
       "  </tbody>\n",
       "</table>\n",
       "</div>"
      ],
      "text/plain": [
       "  record_locator pnr_creation_date  flight_number special_service_request\n",
       "0     PNR_153489        2025-07-04            308      Airport Wheelchair\n",
       "1     PNR_153489        2025-07-04           2182      Airport Wheelchair\n",
       "2     PNR_153508        2025-07-10           2649      Airport Wheelchair\n",
       "3     PNR_153508        2025-07-10           2100      Airport Wheelchair\n",
       "4     PNR_153521        2025-03-01            970     Unaccompanied Minor"
      ]
     },
     "execution_count": 78,
     "metadata": {},
     "output_type": "execute_result"
    }
   ],
   "source": [
    "import pandas as pd\n",
    "pnr_remarks = pd.read_csv('../Data/PNR Remark Level Data.csv')\n",
    "print(pnr_remarks.shape)\n",
    "pnr_remarks.head()\n"
   ]
  },
  {
   "cell_type": "code",
   "execution_count": 79,
   "id": "b565a903",
   "metadata": {},
   "outputs": [
    {
     "name": "stdout",
     "output_type": "stream",
     "text": [
      "record_locator : 0\n",
      "flight_number : 0\n",
      "special_service_request : 0\n",
      "pnr_creation_date : 0\n"
     ]
    },
    {
     "data": {
      "text/html": [
       "<div>\n",
       "<style scoped>\n",
       "    .dataframe tbody tr th:only-of-type {\n",
       "        vertical-align: middle;\n",
       "    }\n",
       "\n",
       "    .dataframe tbody tr th {\n",
       "        vertical-align: top;\n",
       "    }\n",
       "\n",
       "    .dataframe thead th {\n",
       "        text-align: right;\n",
       "    }\n",
       "</style>\n",
       "<table border=\"1\" class=\"dataframe\">\n",
       "  <thead>\n",
       "    <tr style=\"text-align: right;\">\n",
       "      <th></th>\n",
       "      <th>record_locator</th>\n",
       "      <th>pnr_creation_date</th>\n",
       "      <th>flight_number</th>\n",
       "      <th>special_service_request</th>\n",
       "    </tr>\n",
       "  </thead>\n",
       "  <tbody>\n",
       "    <tr>\n",
       "      <th>0</th>\n",
       "      <td>PNR_153489</td>\n",
       "      <td>2025-07-04</td>\n",
       "      <td>308</td>\n",
       "      <td>AIRPORT WHEELCHAIR</td>\n",
       "    </tr>\n",
       "    <tr>\n",
       "      <th>1</th>\n",
       "      <td>PNR_153489</td>\n",
       "      <td>2025-07-04</td>\n",
       "      <td>2182</td>\n",
       "      <td>AIRPORT WHEELCHAIR</td>\n",
       "    </tr>\n",
       "    <tr>\n",
       "      <th>2</th>\n",
       "      <td>PNR_153508</td>\n",
       "      <td>2025-07-10</td>\n",
       "      <td>2649</td>\n",
       "      <td>AIRPORT WHEELCHAIR</td>\n",
       "    </tr>\n",
       "    <tr>\n",
       "      <th>3</th>\n",
       "      <td>PNR_153508</td>\n",
       "      <td>2025-07-10</td>\n",
       "      <td>2100</td>\n",
       "      <td>AIRPORT WHEELCHAIR</td>\n",
       "    </tr>\n",
       "    <tr>\n",
       "      <th>4</th>\n",
       "      <td>PNR_153521</td>\n",
       "      <td>2025-03-01</td>\n",
       "      <td>970</td>\n",
       "      <td>UNACCOMPANIED MINOR</td>\n",
       "    </tr>\n",
       "  </tbody>\n",
       "</table>\n",
       "</div>"
      ],
      "text/plain": [
       "  record_locator pnr_creation_date flight_number special_service_request\n",
       "0     PNR_153489        2025-07-04           308      AIRPORT WHEELCHAIR\n",
       "1     PNR_153489        2025-07-04          2182      AIRPORT WHEELCHAIR\n",
       "2     PNR_153508        2025-07-10          2649      AIRPORT WHEELCHAIR\n",
       "3     PNR_153508        2025-07-10          2100      AIRPORT WHEELCHAIR\n",
       "4     PNR_153521        2025-03-01           970     UNACCOMPANIED MINOR"
      ]
     },
     "execution_count": 79,
     "metadata": {},
     "output_type": "execute_result"
    }
   ],
   "source": [
    "#Columns to treat as strings\n",
    "str_cols = ['record_locator', 'flight_number', 'special_service_request']\n",
    "\n",
    "# Normalize strings: strip, convert to pandas StringDtype, and convert none/null/nan into <NA>\n",
    "for col in str_cols:\n",
    "    s = pnr_remarks[col].astype('string').str.strip()\n",
    "    s = s.mask(s.str.len() == 0)  # empty -> <NA>\n",
    "    s = s.mask(s.str.lower().isin(['nan', 'none', 'null']))  \n",
    "    if col == 'special_service_request':\n",
    "        s = s.str.upper()\n",
    "    pnr_remarks[col] = s\n",
    "\n",
    "# Parse date independently\n",
    "pnr_remarks['pnr_creation_date'] = pd.to_datetime(pnr_remarks['pnr_creation_date'], errors='coerce')\n",
    "\n",
    "# Missing counts\n",
    "missing = {\n",
    "    'record_locator': pnr_remarks['record_locator'].isna().sum(),\n",
    "    'flight_number': pnr_remarks['flight_number'].isna().sum(),\n",
    "    'special_service_request': pnr_remarks['special_service_request'].isna().sum(),\n",
    "    'pnr_creation_date': pnr_remarks['pnr_creation_date'].isna().sum(),\n",
    "}\n",
    "\n",
    "for col, count in missing.items():\n",
    "    print(f\"{col:10} : {count}\")\n",
    "\n",
    "pnr_remarks.head()"
   ]
  },
  {
   "cell_type": "code",
   "execution_count": 80,
   "id": "5ca509ee",
   "metadata": {},
   "outputs": [
    {
     "name": "stdout",
     "output_type": "stream",
     "text": [
      "Total rows: 51698\n",
      "Unique record locators: 16850\n",
      "Average SSR entries per record_locator: 3.07\n"
     ]
    }
   ],
   "source": [
    "total_rows = pnr_remarks.shape[0]  #check for unique record locators\n",
    "unique_record_locators = pnr_remarks['record_locator'].nunique()\n",
    "\n",
    "print(f\"Total rows: {total_rows}\")\n",
    "print(f\"Unique record locators: {unique_record_locators}\")\n",
    "print(f\"Average SSR entries per record_locator: {total_rows / unique_record_locators:.2f}\")  #not all unique record locators "
   ]
  },
  {
   "cell_type": "code",
   "execution_count": 81,
   "id": "b92fab1a",
   "metadata": {},
   "outputs": [
    {
     "name": "stdout",
     "output_type": "stream",
     "text": [
      "Unique flights: 4678\n"
     ]
    }
   ],
   "source": [
    "unique_flights = pnr_remarks['flight_number'].nunique()\n",
    "print(f\"Unique flights: {unique_flights}\")"
   ]
  },
  {
   "cell_type": "code",
   "execution_count": 82,
   "id": "569ce696",
   "metadata": {},
   "outputs": [
    {
     "name": "stdout",
     "output_type": "stream",
     "text": [
      "Number of duplicate rows: 0\n"
     ]
    }
   ],
   "source": [
    "duplicate_rows = pnr_remarks[pnr_remarks.duplicated()]  #check for duplicate rows\n",
    "print(f\"Number of duplicate rows: {duplicate_rows.shape[0]}\")\n",
    "\n",
    "#there are some passenger with same record locators as they have the same booking reference number\n"
   ]
  },
  {
   "cell_type": "code",
   "execution_count": 83,
   "id": "cd3ee4a9",
   "metadata": {},
   "outputs": [
    {
     "name": "stdout",
     "output_type": "stream",
     "text": [
      "Number of duplicate rows (based on ['record_locator', 'pnr_creation_date']): 48348\n"
     ]
    },
    {
     "data": {
      "text/html": [
       "<div>\n",
       "<style scoped>\n",
       "    .dataframe tbody tr th:only-of-type {\n",
       "        vertical-align: middle;\n",
       "    }\n",
       "\n",
       "    .dataframe tbody tr th {\n",
       "        vertical-align: top;\n",
       "    }\n",
       "\n",
       "    .dataframe thead th {\n",
       "        text-align: right;\n",
       "    }\n",
       "</style>\n",
       "<table border=\"1\" class=\"dataframe\">\n",
       "  <thead>\n",
       "    <tr style=\"text-align: right;\">\n",
       "      <th></th>\n",
       "      <th>record_locator</th>\n",
       "      <th>pnr_creation_date</th>\n",
       "      <th>flight_number</th>\n",
       "      <th>special_service_request</th>\n",
       "    </tr>\n",
       "  </thead>\n",
       "  <tbody>\n",
       "    <tr>\n",
       "      <th>21375</th>\n",
       "      <td>PNR_100007</td>\n",
       "      <td>2025-06-17</td>\n",
       "      <td>1528</td>\n",
       "      <td>AIRPORT WHEELCHAIR</td>\n",
       "    </tr>\n",
       "    <tr>\n",
       "      <th>21376</th>\n",
       "      <td>PNR_100007</td>\n",
       "      <td>2025-06-17</td>\n",
       "      <td>2011</td>\n",
       "      <td>AIRPORT WHEELCHAIR</td>\n",
       "    </tr>\n",
       "    <tr>\n",
       "      <th>21377</th>\n",
       "      <td>PNR_100007</td>\n",
       "      <td>2025-06-17</td>\n",
       "      <td>1118</td>\n",
       "      <td>AIRPORT WHEELCHAIR</td>\n",
       "    </tr>\n",
       "    <tr>\n",
       "      <th>21378</th>\n",
       "      <td>PNR_100007</td>\n",
       "      <td>2025-06-17</td>\n",
       "      <td>62</td>\n",
       "      <td>AIRPORT WHEELCHAIR</td>\n",
       "    </tr>\n",
       "    <tr>\n",
       "      <th>21379</th>\n",
       "      <td>PNR_100007</td>\n",
       "      <td>2025-06-17</td>\n",
       "      <td>844</td>\n",
       "      <td>AIRPORT WHEELCHAIR</td>\n",
       "    </tr>\n",
       "    <tr>\n",
       "      <th>21380</th>\n",
       "      <td>PNR_100081</td>\n",
       "      <td>2025-06-18</td>\n",
       "      <td>4707</td>\n",
       "      <td>AIRPORT WHEELCHAIR</td>\n",
       "    </tr>\n",
       "    <tr>\n",
       "      <th>21381</th>\n",
       "      <td>PNR_100081</td>\n",
       "      <td>2025-06-18</td>\n",
       "      <td>2378</td>\n",
       "      <td>AIRPORT WHEELCHAIR</td>\n",
       "    </tr>\n",
       "    <tr>\n",
       "      <th>21383</th>\n",
       "      <td>PNR_100187</td>\n",
       "      <td>2025-07-12</td>\n",
       "      <td>1898</td>\n",
       "      <td>AIRPORT WHEELCHAIR</td>\n",
       "    </tr>\n",
       "    <tr>\n",
       "      <th>21384</th>\n",
       "      <td>PNR_100187</td>\n",
       "      <td>2025-07-12</td>\n",
       "      <td>5772</td>\n",
       "      <td>AIRPORT WHEELCHAIR</td>\n",
       "    </tr>\n",
       "    <tr>\n",
       "      <th>21385</th>\n",
       "      <td>PNR_100187</td>\n",
       "      <td>2025-07-12</td>\n",
       "      <td>617</td>\n",
       "      <td>AIRPORT WHEELCHAIR</td>\n",
       "    </tr>\n",
       "  </tbody>\n",
       "</table>\n",
       "</div>"
      ],
      "text/plain": [
       "      record_locator pnr_creation_date flight_number special_service_request\n",
       "21375     PNR_100007        2025-06-17          1528      AIRPORT WHEELCHAIR\n",
       "21376     PNR_100007        2025-06-17          2011      AIRPORT WHEELCHAIR\n",
       "21377     PNR_100007        2025-06-17          1118      AIRPORT WHEELCHAIR\n",
       "21378     PNR_100007        2025-06-17            62      AIRPORT WHEELCHAIR\n",
       "21379     PNR_100007        2025-06-17           844      AIRPORT WHEELCHAIR\n",
       "21380     PNR_100081        2025-06-18          4707      AIRPORT WHEELCHAIR\n",
       "21381     PNR_100081        2025-06-18          2378      AIRPORT WHEELCHAIR\n",
       "21383     PNR_100187        2025-07-12          1898      AIRPORT WHEELCHAIR\n",
       "21384     PNR_100187        2025-07-12          5772      AIRPORT WHEELCHAIR\n",
       "21385     PNR_100187        2025-07-12           617      AIRPORT WHEELCHAIR"
      ]
     },
     "execution_count": 83,
     "metadata": {},
     "output_type": "execute_result"
    }
   ],
   "source": [
    "key_cols = ['record_locator', 'pnr_creation_date']\n",
    "\n",
    "# Check for duplicates\n",
    "duplicates_mask = pnr_remarks.duplicated(subset=key_cols, keep=False)  # keep=False to mark all dupes\n",
    "duplicates = pnr_remarks[duplicates_mask].sort_values(key_cols)\n",
    "\n",
    "print(f\"Number of duplicate rows (based on {key_cols}): {len(duplicates)}\")  #different flight numbers going to different destinations\n",
    "duplicates.head(10)"
   ]
  },
  {
   "cell_type": "code",
   "execution_count": 84,
   "id": "4ea46f57",
   "metadata": {},
   "outputs": [
    {
     "name": "stdout",
     "output_type": "stream",
     "text": [
      "Number of duplicate rows (based on ['record_locator', 'pnr_creation_date', 'flight_number']): 5350\n"
     ]
    },
    {
     "data": {
      "text/html": [
       "<div>\n",
       "<style scoped>\n",
       "    .dataframe tbody tr th:only-of-type {\n",
       "        vertical-align: middle;\n",
       "    }\n",
       "\n",
       "    .dataframe tbody tr th {\n",
       "        vertical-align: top;\n",
       "    }\n",
       "\n",
       "    .dataframe thead th {\n",
       "        text-align: right;\n",
       "    }\n",
       "</style>\n",
       "<table border=\"1\" class=\"dataframe\">\n",
       "  <thead>\n",
       "    <tr style=\"text-align: right;\">\n",
       "      <th></th>\n",
       "      <th>record_locator</th>\n",
       "      <th>pnr_creation_date</th>\n",
       "      <th>flight_number</th>\n",
       "      <th>special_service_request</th>\n",
       "    </tr>\n",
       "  </thead>\n",
       "  <tbody>\n",
       "    <tr>\n",
       "      <th>21404</th>\n",
       "      <td>PNR_100211</td>\n",
       "      <td>2025-07-12</td>\n",
       "      <td>2226</td>\n",
       "      <td>AIRPORT WHEELCHAIR</td>\n",
       "    </tr>\n",
       "    <tr>\n",
       "      <th>21408</th>\n",
       "      <td>PNR_100211</td>\n",
       "      <td>2025-07-12</td>\n",
       "      <td>2226</td>\n",
       "      <td>MANUAL WHEELCHAIR</td>\n",
       "    </tr>\n",
       "    <tr>\n",
       "      <th>21409</th>\n",
       "      <td>PNR_100211</td>\n",
       "      <td>2025-07-12</td>\n",
       "      <td>2306</td>\n",
       "      <td>MANUAL WHEELCHAIR</td>\n",
       "    </tr>\n",
       "    <tr>\n",
       "      <th>21410</th>\n",
       "      <td>PNR_100211</td>\n",
       "      <td>2025-07-12</td>\n",
       "      <td>2306</td>\n",
       "      <td>AIRPORT WHEELCHAIR</td>\n",
       "    </tr>\n",
       "    <tr>\n",
       "      <th>21405</th>\n",
       "      <td>PNR_100211</td>\n",
       "      <td>2025-07-12</td>\n",
       "      <td>441</td>\n",
       "      <td>AIRPORT WHEELCHAIR</td>\n",
       "    </tr>\n",
       "    <tr>\n",
       "      <th>21406</th>\n",
       "      <td>PNR_100211</td>\n",
       "      <td>2025-07-12</td>\n",
       "      <td>441</td>\n",
       "      <td>MANUAL WHEELCHAIR</td>\n",
       "    </tr>\n",
       "    <tr>\n",
       "      <th>21407</th>\n",
       "      <td>PNR_100211</td>\n",
       "      <td>2025-07-12</td>\n",
       "      <td>539</td>\n",
       "      <td>MANUAL WHEELCHAIR</td>\n",
       "    </tr>\n",
       "    <tr>\n",
       "      <th>21411</th>\n",
       "      <td>PNR_100211</td>\n",
       "      <td>2025-07-12</td>\n",
       "      <td>539</td>\n",
       "      <td>AIRPORT WHEELCHAIR</td>\n",
       "    </tr>\n",
       "    <tr>\n",
       "      <th>21420</th>\n",
       "      <td>PNR_100388</td>\n",
       "      <td>2025-05-20</td>\n",
       "      <td>2389</td>\n",
       "      <td>AIRPORT WHEELCHAIR</td>\n",
       "    </tr>\n",
       "    <tr>\n",
       "      <th>21421</th>\n",
       "      <td>PNR_100388</td>\n",
       "      <td>2025-05-20</td>\n",
       "      <td>2389</td>\n",
       "      <td>MANUAL WHEELCHAIR</td>\n",
       "    </tr>\n",
       "  </tbody>\n",
       "</table>\n",
       "</div>"
      ],
      "text/plain": [
       "      record_locator pnr_creation_date flight_number special_service_request\n",
       "21404     PNR_100211        2025-07-12          2226      AIRPORT WHEELCHAIR\n",
       "21408     PNR_100211        2025-07-12          2226       MANUAL WHEELCHAIR\n",
       "21409     PNR_100211        2025-07-12          2306       MANUAL WHEELCHAIR\n",
       "21410     PNR_100211        2025-07-12          2306      AIRPORT WHEELCHAIR\n",
       "21405     PNR_100211        2025-07-12           441      AIRPORT WHEELCHAIR\n",
       "21406     PNR_100211        2025-07-12           441       MANUAL WHEELCHAIR\n",
       "21407     PNR_100211        2025-07-12           539       MANUAL WHEELCHAIR\n",
       "21411     PNR_100211        2025-07-12           539      AIRPORT WHEELCHAIR\n",
       "21420     PNR_100388        2025-05-20          2389      AIRPORT WHEELCHAIR\n",
       "21421     PNR_100388        2025-05-20          2389       MANUAL WHEELCHAIR"
      ]
     },
     "execution_count": 84,
     "metadata": {},
     "output_type": "execute_result"
    }
   ],
   "source": [
    "key_cols = ['record_locator', 'pnr_creation_date','flight_number']\n",
    "\n",
    "# Check for duplicates\n",
    "duplicates_mask = pnr_remarks.duplicated(subset=key_cols, keep=False)  # keep=False to mark all dupes\n",
    "duplicates = pnr_remarks[duplicates_mask].sort_values(key_cols)\n",
    "\n",
    "print(f\"Number of duplicate rows (based on {key_cols}): {len(duplicates)}\")  #most probably going to to the same destination, multiple family members\n",
    "duplicates.head(10)"
   ]
  },
  {
   "cell_type": "code",
   "execution_count": 85,
   "id": "96dd36e0",
   "metadata": {},
   "outputs": [
    {
     "name": "stdout",
     "output_type": "stream",
     "text": [
      "Valid record_locators: 51698\n",
      "Invalid record_locators: 0\n"
     ]
    }
   ],
   "source": [
    "import re\n",
    "\n",
    "pattern = r'^PNR_\\d+$'   #checking if the record locator starts with PNR_ and followed by numbers\n",
    "\n",
    "# Boolean mask\n",
    "mask_valid_locator = pnr_remarks['record_locator'].str.match(pattern, na=False)\n",
    "\n",
    "valid_count = mask_valid_locator.sum()\n",
    "invalid_count = (~mask_valid_locator).sum()\n",
    "\n",
    "print(f\"Valid record_locators: {valid_count}\")\n",
    "print(f\"Invalid record_locators: {invalid_count}\")"
   ]
  },
  {
   "cell_type": "code",
   "execution_count": 86,
   "id": "3b0afd57",
   "metadata": {},
   "outputs": [
    {
     "name": "stdout",
     "output_type": "stream",
     "text": [
      "special_service_request\n",
      "AIRPORT WHEELCHAIR     45738\n",
      "MANUAL WHEELCHAIR       3641\n",
      "UNACCOMPANIED MINOR     1706\n",
      "ELECTRIC WHEELCHAIR      613\n",
      "Name: count, dtype: Int64\n"
     ]
    }
   ],
   "source": [
    "ssr_counts = pnr_remarks['special_service_request'].value_counts(dropna=False)\n",
    "print(ssr_counts)     #no. of unique SSR values"
   ]
  },
  {
   "cell_type": "code",
   "execution_count": 87,
   "id": "95963a7e",
   "metadata": {},
   "outputs": [
    {
     "data": {
      "text/plain": [
       "\" ssr_map = {\\n    'AIRPORT WHEELCHAIR': 'WHEELCHAIR',\\n    'MANUAL WHEELCHAIR': 'WHEELCHAIR',              # substituting all wheelchair variants with wheelchair\\n    'ELECTRIC WHEELCHAIR': 'WHEELCHAIR',\\n    'UNACCOMPANIED MINOR': 'UNACCOMPANIED_MINOR',\\n}\\n\\npnr_remarks['special_service_request'] = (\\n    pnr_remarks['special_service_request']\\n    .replace(ssr_map)\\n) \""
      ]
     },
     "execution_count": 87,
     "metadata": {},
     "output_type": "execute_result"
    }
   ],
   "source": [
    "''' ssr_map = {\n",
    "    'AIRPORT WHEELCHAIR': 'WHEELCHAIR',\n",
    "    'MANUAL WHEELCHAIR': 'WHEELCHAIR',              # substituting all wheelchair variants with wheelchair\n",
    "    'ELECTRIC WHEELCHAIR': 'WHEELCHAIR',\n",
    "    'UNACCOMPANIED MINOR': 'UNACCOMPANIED_MINOR',\n",
    "}\n",
    "\n",
    "pnr_remarks['special_service_request'] = (\n",
    "    pnr_remarks['special_service_request']\n",
    "    .replace(ssr_map)\n",
    ") '''\n",
    "\n",
    "# we could have just substituted different variants of wheelchair with wheelchair but upon further research, i understood that people with different wheelchairs require different resources and services\n"
   ]
  },
  {
   "cell_type": "code",
   "execution_count": 88,
   "id": "9b0a6509",
   "metadata": {},
   "outputs": [
    {
     "data": {
      "text/plain": [
       "(51698, 4)"
      ]
     },
     "execution_count": 88,
     "metadata": {},
     "output_type": "execute_result"
    }
   ],
   "source": [
    "pnr_remarks.shape"
   ]
  },
  {
   "cell_type": "code",
   "execution_count": 89,
   "id": "ba8e147c",
   "metadata": {},
   "outputs": [],
   "source": [
    "import duckdb\n",
    "\n",
    "# connecting to the database\n",
    "con = duckdb.connect('../sql_databases/skyhack.duckdb')\n",
    "\n",
    "con.register('pnr_remarks_df', pnr_remarks)\n",
    "\n",
    "# creating the table\n",
    "con.execute(\"\"\"\n",
    "    CREATE OR REPLACE TABLE pnr_remarks_cleaned AS\n",
    "    SELECT * FROM pnr_remarks_df\n",
    "\"\"\")\n",
    "con.close()"
   ]
  }
 ],
 "metadata": {
  "kernelspec": {
   "display_name": "skyhack",
   "language": "python",
   "name": "python3"
  },
  "language_info": {
   "codemirror_mode": {
    "name": "ipython",
    "version": 3
   },
   "file_extension": ".py",
   "mimetype": "text/x-python",
   "name": "python",
   "nbconvert_exporter": "python",
   "pygments_lexer": "ipython3",
   "version": "3.12.4"
  }
 },
 "nbformat": 4,
 "nbformat_minor": 5
}
