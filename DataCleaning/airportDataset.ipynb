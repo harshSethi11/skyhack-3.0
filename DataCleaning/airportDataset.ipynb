{
 "cells": [
  {
   "cell_type": "code",
   "execution_count": 43,
   "id": "f7b3e700",
   "metadata": {},
   "outputs": [
    {
     "name": "stdout",
     "output_type": "stream",
     "text": [
      "airports shape:  (5613, 2)\n"
     ]
    },
    {
     "data": {
      "text/html": [
       "<div>\n",
       "<style scoped>\n",
       "    .dataframe tbody tr th:only-of-type {\n",
       "        vertical-align: middle;\n",
       "    }\n",
       "\n",
       "    .dataframe tbody tr th {\n",
       "        vertical-align: top;\n",
       "    }\n",
       "\n",
       "    .dataframe thead th {\n",
       "        text-align: right;\n",
       "    }\n",
       "</style>\n",
       "<table border=\"1\" class=\"dataframe\">\n",
       "  <thead>\n",
       "    <tr style=\"text-align: right;\">\n",
       "      <th></th>\n",
       "      <th>airport_iata_code</th>\n",
       "      <th>iso_country_code</th>\n",
       "    </tr>\n",
       "  </thead>\n",
       "  <tbody>\n",
       "    <tr>\n",
       "      <th>0</th>\n",
       "      <td>DAU</td>\n",
       "      <td>PG</td>\n",
       "    </tr>\n",
       "    <tr>\n",
       "      <th>1</th>\n",
       "      <td>MDU</td>\n",
       "      <td>PG</td>\n",
       "    </tr>\n",
       "    <tr>\n",
       "      <th>2</th>\n",
       "      <td>MXH</td>\n",
       "      <td>PG</td>\n",
       "    </tr>\n",
       "    <tr>\n",
       "      <th>3</th>\n",
       "      <td>MIS</td>\n",
       "      <td>PG</td>\n",
       "    </tr>\n",
       "    <tr>\n",
       "      <th>4</th>\n",
       "      <td>TIZ</td>\n",
       "      <td>PG</td>\n",
       "    </tr>\n",
       "  </tbody>\n",
       "</table>\n",
       "</div>"
      ],
      "text/plain": [
       "  airport_iata_code iso_country_code\n",
       "0               DAU               PG\n",
       "1               MDU               PG\n",
       "2               MXH               PG\n",
       "3               MIS               PG\n",
       "4               TIZ               PG"
      ]
     },
     "execution_count": 43,
     "metadata": {},
     "output_type": "execute_result"
    }
   ],
   "source": [
    "import pandas as pd\n",
    "airports = pd.read_csv('../Data/Airports Data.csv')\n",
    "airports = airports.map(lambda x: x.strip() if isinstance(x, str) else x)\n",
    "print(\"airports shape: \",airports.shape)\n",
    "airports.head()\n"
   ]
  },
  {
   "cell_type": "code",
   "execution_count": 44,
   "id": "09fdea9c",
   "metadata": {},
   "outputs": [
    {
     "data": {
      "text/plain": [
       "5613"
      ]
     },
     "execution_count": 44,
     "metadata": {},
     "output_type": "execute_result"
    }
   ],
   "source": [
    "airports['airport_iata_code'].nunique()  # all unique iata codes\n"
   ]
  },
  {
   "cell_type": "code",
   "execution_count": 45,
   "id": "3e35e80d",
   "metadata": {},
   "outputs": [
    {
     "name": "stdout",
     "output_type": "stream",
     "text": [
      "Number of duplicate rows: 0\n"
     ]
    }
   ],
   "source": [
    "duplicate_rows = airports[airports.duplicated()]    #check for duplicate rows\n",
    "print(f\"Number of duplicate rows: {duplicate_rows.shape[0]}\")"
   ]
  },
  {
   "cell_type": "code",
   "execution_count": 46,
   "id": "f0db0762",
   "metadata": {},
   "outputs": [
    {
     "data": {
      "text/plain": [
       "airport_iata_code    0\n",
       "iso_country_code     0\n",
       "dtype: int64"
      ]
     },
     "execution_count": 46,
     "metadata": {},
     "output_type": "execute_result"
    }
   ],
   "source": [
    "(airports == '').sum()  # check for empty strings\n"
   ]
  },
  {
   "cell_type": "code",
   "execution_count": 47,
   "id": "a2009e19",
   "metadata": {},
   "outputs": [
    {
     "data": {
      "text/plain": [
       "airport_iata_code     0\n",
       "iso_country_code     15\n",
       "dtype: int64"
      ]
     },
     "execution_count": 47,
     "metadata": {},
     "output_type": "execute_result"
    }
   ],
   "source": [
    "airports.isnull().sum()  #check for null values\n",
    "# got 15 null values in iso_country_code column "
   ]
  },
  {
   "cell_type": "code",
   "execution_count": 48,
   "id": "9c73c313",
   "metadata": {},
   "outputs": [
    {
     "name": "stdout",
     "output_type": "stream",
     "text": [
      "Number of invalid IATA codes: 0\n"
     ]
    }
   ],
   "source": [
    "# check for invalid iata codes format\n",
    "mask_len = airports['airport_iata_code'].str.len() != 3     # Check length != 3\n",
    "\n",
    "mask_case = airports['airport_iata_code'] != airports['airport_iata_code'].str.upper()     # Check not uppercase \n",
    "\n",
    "mask_alpha = ~airports['airport_iata_code'].str.match(r'^[A-Z]{3}$', na=False)   # Check non-alphabetic characters \n",
    "\n",
    "mask_iata_invalid = mask_len | mask_case | mask_alpha\n",
    "\n",
    "invalid_iata_rows = airports[mask_iata_invalid]\n",
    "print(f\"Number of invalid IATA codes: {invalid_iata_rows.shape[0]}\")    #all iato codes are of valid format"
   ]
  },
  {
   "cell_type": "code",
   "execution_count": 49,
   "id": "1a569f28",
   "metadata": {},
   "outputs": [
    {
     "data": {
      "text/html": [
       "<div>\n",
       "<style scoped>\n",
       "    .dataframe tbody tr th:only-of-type {\n",
       "        vertical-align: middle;\n",
       "    }\n",
       "\n",
       "    .dataframe tbody tr th {\n",
       "        vertical-align: top;\n",
       "    }\n",
       "\n",
       "    .dataframe thead th {\n",
       "        text-align: right;\n",
       "    }\n",
       "</style>\n",
       "<table border=\"1\" class=\"dataframe\">\n",
       "  <thead>\n",
       "    <tr style=\"text-align: right;\">\n",
       "      <th></th>\n",
       "      <th>airport_iata_code</th>\n",
       "      <th>iso_country_code</th>\n",
       "    </tr>\n",
       "  </thead>\n",
       "  <tbody>\n",
       "    <tr>\n",
       "      <th>321</th>\n",
       "      <td>OND</td>\n",
       "      <td>NaN</td>\n",
       "    </tr>\n",
       "    <tr>\n",
       "      <th>322</th>\n",
       "      <td>ERS</td>\n",
       "      <td>NaN</td>\n",
       "    </tr>\n",
       "    <tr>\n",
       "      <th>323</th>\n",
       "      <td>WDH</td>\n",
       "      <td>NaN</td>\n",
       "    </tr>\n",
       "    <tr>\n",
       "      <th>2628</th>\n",
       "      <td>ADI</td>\n",
       "      <td>NaN</td>\n",
       "    </tr>\n",
       "    <tr>\n",
       "      <th>2629</th>\n",
       "      <td>GOG</td>\n",
       "      <td>NaN</td>\n",
       "    </tr>\n",
       "    <tr>\n",
       "      <th>2630</th>\n",
       "      <td>GFY</td>\n",
       "      <td>NaN</td>\n",
       "    </tr>\n",
       "    <tr>\n",
       "      <th>2631</th>\n",
       "      <td>MPA</td>\n",
       "      <td>NaN</td>\n",
       "    </tr>\n",
       "    <tr>\n",
       "      <th>2632</th>\n",
       "      <td>KMP</td>\n",
       "      <td>NaN</td>\n",
       "    </tr>\n",
       "    <tr>\n",
       "      <th>2633</th>\n",
       "      <td>LUD</td>\n",
       "      <td>NaN</td>\n",
       "    </tr>\n",
       "    <tr>\n",
       "      <th>2634</th>\n",
       "      <td>OKU</td>\n",
       "      <td>NaN</td>\n",
       "    </tr>\n",
       "    <tr>\n",
       "      <th>2635</th>\n",
       "      <td>OMD</td>\n",
       "      <td>NaN</td>\n",
       "    </tr>\n",
       "    <tr>\n",
       "      <th>2636</th>\n",
       "      <td>NDU</td>\n",
       "      <td>NaN</td>\n",
       "    </tr>\n",
       "    <tr>\n",
       "      <th>2637</th>\n",
       "      <td>RHN</td>\n",
       "      <td>NaN</td>\n",
       "    </tr>\n",
       "    <tr>\n",
       "      <th>2638</th>\n",
       "      <td>SWP</td>\n",
       "      <td>NaN</td>\n",
       "    </tr>\n",
       "    <tr>\n",
       "      <th>2639</th>\n",
       "      <td>WVB</td>\n",
       "      <td>NaN</td>\n",
       "    </tr>\n",
       "  </tbody>\n",
       "</table>\n",
       "</div>"
      ],
      "text/plain": [
       "     airport_iata_code iso_country_code\n",
       "321                OND              NaN\n",
       "322                ERS              NaN\n",
       "323                WDH              NaN\n",
       "2628               ADI              NaN\n",
       "2629               GOG              NaN\n",
       "2630               GFY              NaN\n",
       "2631               MPA              NaN\n",
       "2632               KMP              NaN\n",
       "2633               LUD              NaN\n",
       "2634               OKU              NaN\n",
       "2635               OMD              NaN\n",
       "2636               NDU              NaN\n",
       "2637               RHN              NaN\n",
       "2638               SWP              NaN\n",
       "2639               WVB              NaN"
      ]
     },
     "execution_count": 49,
     "metadata": {},
     "output_type": "execute_result"
    }
   ],
   "source": [
    "airports[airports['iso_country_code'].isnull()]  # got the rows with null iso code"
   ]
  },
  {
   "cell_type": "code",
   "execution_count": 50,
   "id": "3ae94f91",
   "metadata": {},
   "outputs": [],
   "source": [
    "'''checked online, all these missing airports for which iso code is missing are in namibia, for which iso code is NA, \n",
    "didnt want to remove them as they are valid airports and make this analysis generalizable outside this 2 week data given to us'''\n",
    "\n",
    "airports.loc[airports['iso_country_code'].isnull(), 'iso_country_code'] = 'NA'"
   ]
  },
  {
   "cell_type": "code",
   "execution_count": 51,
   "id": "3ae800c3",
   "metadata": {},
   "outputs": [
    {
     "name": "stdout",
     "output_type": "stream",
     "text": [
      "Number of invalid ISO codes: 0\n"
     ]
    }
   ],
   "source": [
    "# check for invalid iso code format\n",
    "mask_len_iso = airports['iso_country_code'].str.len() != 2\n",
    "mask_case_iso = airports['iso_country_code'] != airports['iso_country_code'].str.upper()\n",
    "mask_alpha_iso = ~airports['iso_country_code'].str.match(r'^[A-Z]{2}$', na=False)\n",
    "\n",
    "mask_iso_invalid = mask_len_iso | mask_case_iso | mask_alpha_iso\n",
    "\n",
    "invalid_iso_rows = airports[mask_iso_invalid]\n",
    "print(f\"Number of invalid ISO codes: {invalid_iso_rows.shape[0]}\")"
   ]
  },
  {
   "cell_type": "code",
   "execution_count": 52,
   "id": "cf1a916f",
   "metadata": {},
   "outputs": [],
   "source": [
    "import duckdb\n",
    "from pathlib import Path\n",
    "\n",
    "db_path = Path('../sql_databases/skyhack.duckdb')   # creates file if not exists\n",
    "con = duckdb.connect(str(db_path))\n",
    "\n",
    "# Register the DataFrame in this session\n",
    "con.register('airports_df', airports)\n",
    "\n",
    "# Create/replace table in the DB file\n",
    "con.execute(\"\"\"\n",
    "    CREATE OR REPLACE TABLE airports_cleaned AS\n",
    "    SELECT * FROM airports_df\n",
    "\"\"\")\n",
    "\n",
    "con.close()\n"
   ]
  },
  {
   "cell_type": "code",
   "execution_count": 53,
   "id": "a5db0f79",
   "metadata": {},
   "outputs": [
    {
     "name": "stdout",
     "output_type": "stream",
     "text": [
      "AUL is in the dataset\n"
     ]
    }
   ],
   "source": [
    "if 'AUL' in airports['airport_iata_code'].unique():   # this was added while cleaning the bagData as AUL was a valid airport which was there in that dataset, so i manually added this entry in the csv file.\n",
    "    print(\"AUL is in the dataset\")\n",
    "else:\n",
    "    print(\"AUL is not in the dataset\")"
   ]
  }
 ],
 "metadata": {
  "kernelspec": {
   "display_name": "skyhack",
   "language": "python",
   "name": "python3"
  },
  "language_info": {
   "codemirror_mode": {
    "name": "ipython",
    "version": 3
   },
   "file_extension": ".py",
   "mimetype": "text/x-python",
   "name": "python",
   "nbconvert_exporter": "python",
   "pygments_lexer": "ipython3",
   "version": "3.12.4"
  }
 },
 "nbformat": 4,
 "nbformat_minor": 5
}
