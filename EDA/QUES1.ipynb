{
 "cells": [
  {
   "cell_type": "markdown",
   "id": "24270089",
   "metadata": {},
   "source": [
    "**What is the average delay and what percentage of flights depart later than scheduled?**"
   ]
  },
  {
   "cell_type": "code",
   "execution_count": 14,
   "id": "2aaeacee",
   "metadata": {},
   "outputs": [
    {
     "data": {
      "text/html": [
       "<div>\n",
       "<style scoped>\n",
       "    .dataframe tbody tr th:only-of-type {\n",
       "        vertical-align: middle;\n",
       "    }\n",
       "\n",
       "    .dataframe tbody tr th {\n",
       "        vertical-align: top;\n",
       "    }\n",
       "\n",
       "    .dataframe thead th {\n",
       "        text-align: right;\n",
       "    }\n",
       "</style>\n",
       "<table border=\"1\" class=\"dataframe\">\n",
       "  <thead>\n",
       "    <tr style=\"text-align: right;\">\n",
       "      <th></th>\n",
       "      <th>name</th>\n",
       "    </tr>\n",
       "  </thead>\n",
       "  <tbody>\n",
       "    <tr>\n",
       "      <th>0</th>\n",
       "      <td>PNRFlight</td>\n",
       "    </tr>\n",
       "    <tr>\n",
       "      <th>1</th>\n",
       "      <td>airports_cleaned</td>\n",
       "    </tr>\n",
       "    <tr>\n",
       "      <th>2</th>\n",
       "      <td>bagsData_cleaned</td>\n",
       "    </tr>\n",
       "    <tr>\n",
       "      <th>3</th>\n",
       "      <td>flights_cleaned</td>\n",
       "    </tr>\n",
       "    <tr>\n",
       "      <th>4</th>\n",
       "      <td>pnr_remarks_cleaned</td>\n",
       "    </tr>\n",
       "  </tbody>\n",
       "</table>\n",
       "</div>"
      ],
      "text/plain": [
       "                  name\n",
       "0            PNRFlight\n",
       "1     airports_cleaned\n",
       "2     bagsData_cleaned\n",
       "3      flights_cleaned\n",
       "4  pnr_remarks_cleaned"
      ]
     },
     "execution_count": 14,
     "metadata": {},
     "output_type": "execute_result"
    }
   ],
   "source": [
    "import duckdb\n",
    "con = duckdb.connect('../sql_databases/skyhack.duckdb')\n",
    "con.execute(\"SHOW TABLES\").df()\n"
   ]
  },
  {
   "cell_type": "code",
   "execution_count": 15,
   "id": "678a780e",
   "metadata": {},
   "outputs": [
    {
     "data": {
      "text/html": [
       "<div>\n",
       "<style scoped>\n",
       "    .dataframe tbody tr th:only-of-type {\n",
       "        vertical-align: middle;\n",
       "    }\n",
       "\n",
       "    .dataframe tbody tr th {\n",
       "        vertical-align: top;\n",
       "    }\n",
       "\n",
       "    .dataframe thead th {\n",
       "        text-align: right;\n",
       "    }\n",
       "</style>\n",
       "<table border=\"1\" class=\"dataframe\">\n",
       "  <thead>\n",
       "    <tr style=\"text-align: right;\">\n",
       "      <th></th>\n",
       "      <th>avg_dep_delay_min</th>\n",
       "      <th>percentage_late_departures</th>\n",
       "    </tr>\n",
       "  </thead>\n",
       "  <tbody>\n",
       "    <tr>\n",
       "      <th>0</th>\n",
       "      <td>23.386733</td>\n",
       "      <td>49.721017</td>\n",
       "    </tr>\n",
       "  </tbody>\n",
       "</table>\n",
       "</div>"
      ],
      "text/plain": [
       "   avg_dep_delay_min  percentage_late_departures\n",
       "0          23.386733                   49.721017"
      ]
     },
     "execution_count": 15,
     "metadata": {},
     "output_type": "execute_result"
    }
   ],
   "source": [
    "sql_query = '''\n",
    "SELECT\n",
    "  AVG(GREATEST(date_diff('minute', scheduled_departure_datetime_local, actual_departure_datetime_local), 0)) AS avg_dep_delay_min,\n",
    "  100.0 * AVG(CASE WHEN date_diff('minute', scheduled_departure_datetime_local, actual_departure_datetime_local) > 0 THEN 1 ELSE 0 END) AS percentage_late_departures\n",
    "FROM flights_cleaned;\n",
    "'''\n",
    "con.execute(sql_query).df()"
   ]
  },
  {
   "cell_type": "code",
   "execution_count": 16,
   "id": "8168c935",
   "metadata": {},
   "outputs": [],
   "source": [
    "con.close()"
   ]
  }
 ],
 "metadata": {
  "kernelspec": {
   "display_name": "skyhack",
   "language": "python",
   "name": "python3"
  },
  "language_info": {
   "codemirror_mode": {
    "name": "ipython",
    "version": 3
   },
   "file_extension": ".py",
   "mimetype": "text/x-python",
   "name": "python",
   "nbconvert_exporter": "python",
   "pygments_lexer": "ipython3",
   "version": "3.12.4"
  }
 },
 "nbformat": 4,
 "nbformat_minor": 5
}
