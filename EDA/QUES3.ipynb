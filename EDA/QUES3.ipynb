{
 "cells": [
  {
   "cell_type": "markdown",
   "id": "2c77d629",
   "metadata": {},
   "source": [
    "**What is the average ratio of transfer bags vs. checked bags across flights?**"
   ]
  },
  {
   "cell_type": "code",
   "execution_count": 27,
   "id": "40a8a2bf",
   "metadata": {},
   "outputs": [
    {
     "ename": "IOException",
     "evalue": "IO Error: Cannot open file \"c:\\users\\harsh sethi\\onedrive\\desktop\\skyhack\\eda\\..\\sql_databases\\skyhack.duckdb\": The process cannot access the file because it is being used by another process.\r\n\nFile is already open in \nC:\\Anaconda\\python.exe (PID 15604)",
     "output_type": "error",
     "traceback": [
      "\u001b[31m---------------------------------------------------------------------------\u001b[39m",
      "\u001b[31mIOException\u001b[39m                               Traceback (most recent call last)",
      "\u001b[36mCell\u001b[39m\u001b[36m \u001b[39m\u001b[32mIn[27]\u001b[39m\u001b[32m, line 2\u001b[39m\n\u001b[32m      1\u001b[39m \u001b[38;5;28;01mimport\u001b[39;00m\u001b[38;5;250m \u001b[39m\u001b[34;01mduckdb\u001b[39;00m\n\u001b[32m----> \u001b[39m\u001b[32m2\u001b[39m con = \u001b[43mduckdb\u001b[49m\u001b[43m.\u001b[49m\u001b[43mconnect\u001b[49m\u001b[43m(\u001b[49m\u001b[33;43m'\u001b[39;49m\u001b[33;43m../sql_databases/skyhack.duckdb\u001b[39;49m\u001b[33;43m'\u001b[39;49m\u001b[43m)\u001b[49m\n\u001b[32m      3\u001b[39m con.execute(\u001b[33m\"\u001b[39m\u001b[33mSHOW TABLES\u001b[39m\u001b[33m\"\u001b[39m).df()\n",
      "\u001b[31mIOException\u001b[39m: IO Error: Cannot open file \"c:\\users\\harsh sethi\\onedrive\\desktop\\skyhack\\eda\\..\\sql_databases\\skyhack.duckdb\": The process cannot access the file because it is being used by another process.\r\n\nFile is already open in \nC:\\Anaconda\\python.exe (PID 15604)"
     ]
    }
   ],
   "source": [
    "import duckdb\n",
    "con = duckdb.connect('../sql_databases/skyhack.duckdb')\n",
    "con.execute(\"SHOW TABLES\").df()"
   ]
  },
  {
   "cell_type": "code",
   "execution_count": null,
   "id": "20078550",
   "metadata": {},
   "outputs": [
    {
     "data": {
      "text/html": [
       "<div>\n",
       "<style scoped>\n",
       "    .dataframe tbody tr th:only-of-type {\n",
       "        vertical-align: middle;\n",
       "    }\n",
       "\n",
       "    .dataframe tbody tr th {\n",
       "        vertical-align: top;\n",
       "    }\n",
       "\n",
       "    .dataframe thead th {\n",
       "        text-align: right;\n",
       "    }\n",
       "</style>\n",
       "<table border=\"1\" class=\"dataframe\">\n",
       "  <thead>\n",
       "    <tr style=\"text-align: right;\">\n",
       "      <th></th>\n",
       "      <th>avg_transfer_to_checked_ratio</th>\n",
       "      <th>flights_considered</th>\n",
       "    </tr>\n",
       "  </thead>\n",
       "  <tbody>\n",
       "    <tr>\n",
       "      <th>0</th>\n",
       "      <td>3.638248</td>\n",
       "      <td>8316</td>\n",
       "    </tr>\n",
       "  </tbody>\n",
       "</table>\n",
       "</div>"
      ],
      "text/plain": [
       "   avg_transfer_to_checked_ratio  flights_considered\n",
       "0                       3.638248                8316"
      ]
     },
     "execution_count": 25,
     "metadata": {},
     "output_type": "execute_result"
    }
   ],
   "source": [
    "sql_query = '''\n",
    "WITH bags_norm AS (\n",
    "  SELECT DISTINCT\n",
    "    UPPER(TRIM(company_id))                       AS company_id,\n",
    "    CAST(flight_number AS VARCHAR)                AS flight_number,\n",
    "    CAST(scheduled_departure_date_local AS DATE)  AS dep_date,\n",
    "    UPPER(TRIM(scheduled_departure_station_code)) AS dep_iata,\n",
    "    UPPER(TRIM(scheduled_arrival_station_code))   AS arr_iata,\n",
    "    UPPER(TRIM(bag_type))                         AS bag_type_norm,\n",
    "    UPPER(TRIM(bag_tag_unique_number))            AS bag_tag,\n",
    "    CAST(bag_tag_issue_date AS DATE)              AS bag_date,\n",
    "  FROM bagsData_cleaned\n",
    "  WHERE bag_tag_unique_number IS NOT NULL\n",
    "),\n",
    "-- one handling unit per unique bag→arrival route on the outbound flight\n",
    "handling_units AS (\n",
    "  SELECT DISTINCT\n",
    "    company_id, flight_number, dep_date, dep_iata, arr_iata, bag_tag, bag_type_norm\n",
    "  FROM bags_norm\n",
    "),\n",
    "bag_counts AS (\n",
    "  SELECT\n",
    "    company_id, flight_number, dep_date, dep_iata,\n",
    "    SUM(CASE WHEN bag_type_norm LIKE 'ORIGIN%' THEN 1 ELSE 0 END)                 AS checked_units,\n",
    "    SUM(CASE WHEN bag_type_norm LIKE '%TRANSFER%' THEN 1 ELSE 0 END)               AS transfer_units_total  -- includes HOT TRANSFER\n",
    "  FROM handling_units\n",
    "  GROUP BY 1,2,3,4\n",
    "),\n",
    "ratios AS (\n",
    "  SELECT\n",
    "    company_id, flight_number, dep_date, dep_iata,\n",
    "    checked_units, transfer_units_total,\n",
    "    CASE WHEN checked_units > 0 THEN CAST(transfer_units_total AS DOUBLE) / checked_units END AS transfer_ratio\n",
    "  FROM bag_counts\n",
    ")\n",
    "SELECT\n",
    "  AVG(transfer_ratio) AS avg_transfer_to_checked_ratio,\n",
    "  COUNT(*)            AS flights_considered\n",
    "FROM ratios\n",
    "WHERE checked_units > 0;\n",
    "'''\n",
    "\n",
    "con.execute(sql_query).df()\n"
   ]
  },
  {
   "cell_type": "code",
   "execution_count": null,
   "id": "f5ed75df",
   "metadata": {},
   "outputs": [],
   "source": [
    "con.close()"
   ]
  }
 ],
 "metadata": {
  "kernelspec": {
   "display_name": "skyhack",
   "language": "python",
   "name": "python3"
  },
  "language_info": {
   "codemirror_mode": {
    "name": "ipython",
    "version": 3
   },
   "file_extension": ".py",
   "mimetype": "text/x-python",
   "name": "python",
   "nbconvert_exporter": "python",
   "pygments_lexer": "ipython3",
   "version": "3.12.4"
  }
 },
 "nbformat": 4,
 "nbformat_minor": 5
}
